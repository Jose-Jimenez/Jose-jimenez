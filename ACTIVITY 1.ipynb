{
 "cells": [
  {
   "cell_type": "markdown",
   "metadata": {},
   "source": [
    "#  Activity \" Variables and Sample Mean\""
   ]
  },
  {
   "cell_type": "code",
   "execution_count": null,
   "metadata": {},
   "outputs": [],
   "source": [
    "age=27\n",
    "print(f\" I am {age} \")\n",
    "print(\" How are you ? \", end=' ')\n",
    "age= input()\n",
    "print(f\"So, you are {age} years old\")"
   ]
  },
  {
   "cell_type": "code",
   "execution_count": null,
   "metadata": {},
   "outputs": [],
   "source": [
    "name= input (\" What is your name?\")\n",
    "print=(f\"H,{name}\")"
   ]
  },
  {
   "cell_type": "code",
   "execution_count": 4,
   "metadata": {},
   "outputs": [
    {
     "name": "stdout",
     "output_type": "stream",
     "text": [
      " Give the age of three students\n",
      "2\n",
      "2\n",
      "2\n",
      " the sample mean of the studets is 2.0\n"
     ]
    }
   ],
   "source": [
    "print(\" Give the age of three students\")\n",
    "age_one= int(input())\n",
    "age_two= int(input())\n",
    "age_three= int(input())\n",
    "suma= age_one + age_two + age_three\n",
    "sample_mean= (suma / 3)\n",
    "print (f\" the sample mean of the students is {sample_mean}\")\n",
    "\n"
   ]
  },
  {
   "cell_type": "code",
   "execution_count": null,
   "metadata": {},
   "outputs": [],
   "source": []
  }
 ],
 "metadata": {
  "kernelspec": {
   "display_name": "Python 3",
   "language": "python",
   "name": "python3"
  },
  "language_info": {
   "codemirror_mode": {
    "name": "ipython",
    "version": 3
   },
   "file_extension": ".py",
   "mimetype": "text/x-python",
   "name": "python",
   "nbconvert_exporter": "python",
   "pygments_lexer": "ipython3",
   "version": "3.7.3"
  }
 },
 "nbformat": 4,
 "nbformat_minor": 2
}
