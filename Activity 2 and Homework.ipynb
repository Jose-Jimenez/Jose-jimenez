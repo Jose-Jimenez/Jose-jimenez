{
 "cells": [
  {
   "cell_type": "markdown",
   "metadata": {},
   "source": [
    "## Use of If"
   ]
  },
  {
   "cell_type": "code",
   "execution_count": 1,
   "metadata": {},
   "outputs": [
    {
     "name": "stdout",
     "output_type": "stream",
     "text": [
      "It's correct\n"
     ]
    }
   ],
   "source": [
    "a = 9\n",
    "b = 5\n",
    "c = 4\n",
    "if a >= b and c < b:\n",
    "    print(\"It's correct\")"
   ]
  },
  {
   "cell_type": "markdown",
   "metadata": {},
   "source": [
    "## Use of OR in if"
   ]
  },
  {
   "cell_type": "code",
   "execution_count": 2,
   "metadata": {},
   "outputs": [
    {
     "name": "stdout",
     "output_type": "stream",
     "text": [
      "At least one of the conditions have been fulfilled\n"
     ]
    }
   ],
   "source": [
    "a = 15\n",
    "b = 12\n",
    "c = 10\n",
    "if a >= b or c < b:\n",
    "    print(\"At least one of the conditions have been fulfilled\")"
   ]
  },
  {
   "cell_type": "markdown",
   "metadata": {},
   "source": [
    "## Use of AND in if"
   ]
  },
  {
   "cell_type": "code",
   "execution_count": 4,
   "metadata": {},
   "outputs": [
    {
     "name": "stdout",
     "output_type": "stream",
     "text": [
      "How old are you?25\n",
      "You look younger than 25!\n"
     ]
    }
   ],
   "source": [
    "age = int(input(\"How old are you?\"))\n",
    "if age <= 18:\n",
    "    print(\"You are still baby!\")\n",
    "if age > 18 and age <= 25:\n",
    "    print(f\"You look younger than {age}!\")\n",
    "if age > 25:\n",
    "    print(\"You are getting older :()\")"
   ]
  },
  {
   "cell_type": "markdown",
   "metadata": {},
   "source": [
    "## Use of ELSE in if"
   ]
  },
  {
   "cell_type": "code",
   "execution_count": 6,
   "metadata": {},
   "outputs": [
    {
     "name": "stdout",
     "output_type": "stream",
     "text": [
      "a is greater than b\n"
     ]
    }
   ],
   "source": [
    "a = 16\n",
    "b = 15\n",
    "if a < b:\n",
    "    print(\"a is less than b\")\n",
    "elif a > b:\n",
    "    print(\"a is greater than b\")\n",
    "else:\n",
    "    print(\"a is equal to b\")"
   ]
  },
  {
   "cell_type": "code",
   "execution_count": 10,
   "metadata": {},
   "outputs": [
    {
     "name": "stdout",
     "output_type": "stream",
     "text": [
      "Bye\n"
     ]
    }
   ],
   "source": [
    "a = 5\n",
    "b = 6\n",
    "if a > b:\n",
    "    print(\"Hi\")\n",
    "if a < b:\n",
    "        print(\"Bye\")"
   ]
  },
  {
   "cell_type": "markdown",
   "metadata": {},
   "source": [
    "## How to select a variable inside of a variable"
   ]
  },
  {
   "cell_type": "code",
   "execution_count": 11,
   "metadata": {},
   "outputs": [
    {
     "name": "stdout",
     "output_type": "stream",
     "text": [
      "Ana\n",
      "10\n"
     ]
    }
   ],
   "source": [
    "names = [\"Rafael\", \"Jesus\", \"Ana\"]\n",
    "numbers = [10, 12, 15]\n",
    "print(names[2])\n",
    "print(numbers[0])"
   ]
  },
  {
   "cell_type": "markdown",
   "metadata": {},
   "source": [
    "## How to list variables"
   ]
  },
  {
   "cell_type": "code",
   "execution_count": 13,
   "metadata": {},
   "outputs": [
    {
     "name": "stdout",
     "output_type": "stream",
     "text": [
      "Hello Hello Hello Hello Hello Hello Hello Hello Hello Hello "
     ]
    }
   ],
   "source": [
    "for i in range(0,10):\n",
    "    print(\"Hello\", end = ' ')"
   ]
  },
  {
   "cell_type": "code",
   "execution_count": 15,
   "metadata": {},
   "outputs": [
    {
     "name": "stdout",
     "output_type": "stream",
     "text": [
      "Juan Carlos Armando Alex Evelyn "
     ]
    }
   ],
   "source": [
    "names = [\"Juan\", \"Carlos\", \"Armando\", \"Alex\", \"Evelyn\"]\n",
    "for name in names:\n",
    "    print(name, end = ' ')"
   ]
  },
  {
   "cell_type": "markdown",
   "metadata": {},
   "source": [
    "## Example "
   ]
  },
  {
   "cell_type": "code",
   "execution_count": 17,
   "metadata": {},
   "outputs": [
    {
     "name": "stdout",
     "output_type": "stream",
     "text": [
      "How much data do you want to introduce? 10\n",
      "Introduce age: 10\n",
      "Introduce age: 9\n",
      "Introduce age: 9\n",
      "Introduce age: 10\n",
      "Introduce age: 10\n",
      "Introduce age: 2\n",
      "Introduce age: 5\n",
      "Introduce age: 6\n",
      "Introduce age: 8\n",
      "Introduce age: 9\n",
      "This is your sample: \n",
      "10 9 9 10 10 2 5 6 8 9 \n",
      "The sample mean is = 7.8\n"
     ]
    }
   ],
   "source": [
    "values = int(input(\"How much data do you want to introduce? \"))\n",
    "ages = []\n",
    "total = 0\n",
    "for i in range(0,values):\n",
    "    x = int(input(\"Introduce age: \"))\n",
    "    ages.append(x)\n",
    "    total += x\n",
    "print(\"This is your sample: \")\n",
    "\n",
    "for age in ages:\n",
    "    print(age, end = ' ')\n",
    "\n",
    "sample_mean = total/values\n",
    "\n",
    "print(f\"\\nThe sample mean is = {sample_mean}\")"
   ]
  },
  {
   "cell_type": "markdown",
   "metadata": {},
   "source": [
    "## Homework"
   ]
  },
  {
   "cell_type": "code",
   "execution_count": 1,
   "metadata": {},
   "outputs": [
    {
     "name": "stdout",
     "output_type": "stream",
     "text": [
      "Introduce the amount of names: 3\n",
      "Introduce a name: jose \n",
      "Introduce a name: diego\n",
      "Introduce a name: carlos\n",
      "jose  diego carlos Which position do you want print? 1\n",
      "diego\n"
     ]
    }
   ],
   "source": [
    "namees = int(input(\"Introduce the amount of names: \"))\n",
    "names = []\n",
    "for i in range(0,namees):\n",
    "    x = str(input(\"Introduce a name: \"))\n",
    "    names.append(x)\n",
    "\n",
    "for name in names:\n",
    "  print(name, end = ' ')\n",
    "\n",
    "position = int(input(\"Which position do you want print? \"))\n",
    "if position < namees:\n",
    "    print(names[position])\n",
    "else:\n",
    "    print(\"This option is not aviable\")"
   ]
  },
  {
   "cell_type": "code",
   "execution_count": null,
   "metadata": {},
   "outputs": [],
   "source": []
  }
 ],
 "metadata": {
  "kernelspec": {
   "display_name": "Python 3",
   "language": "python",
   "name": "python3"
  },
  "language_info": {
   "codemirror_mode": {
    "name": "ipython",
    "version": 3
   },
   "file_extension": ".py",
   "mimetype": "text/x-python",
   "name": "python",
   "nbconvert_exporter": "python",
   "pygments_lexer": "ipython3",
   "version": "3.7.3"
  }
 },
 "nbformat": 4,
 "nbformat_minor": 2
}
