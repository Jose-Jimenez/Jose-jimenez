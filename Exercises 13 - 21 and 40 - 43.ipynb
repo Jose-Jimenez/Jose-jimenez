{
 "cells": [
  {
   "cell_type": "markdown",
   "metadata": {},
   "source": [
    "# Exercise 13 Parameters, Unpacking, Variables"
   ]
  },
  {
   "cell_type": "markdown",
   "metadata": {},
   "source": [
    "#### This exercise explains the use of a command called argument variable. For this program, a command called import is used to give it certain characteristics within the argument variable which makes that argument variable have within itself different variables that will be useful when writing a code."
   ]
  },
  {
   "cell_type": "markdown",
   "metadata": {},
   "source": [
    "from sys import argv    \n",
    "    script, first, second, third = argv\n",
    "    \n",
    "    print \"The script is called:\", script \n",
    "    print \"Your first variable is:\", first     \n",
    "    print \"Your second variable is:\", second    \n",
    "    print \"Your third variable is:\", third"
   ]
  },
  {
   "cell_type": "markdown",
   "metadata": {},
   "source": [
    "#### In the second line you are not declaring variables but assigning values for that argument variable. The prints only show how these values of the argument variable are represented.\n"
   ]
  },
  {
   "cell_type": "code",
   "execution_count": null,
   "metadata": {},
   "outputs": [],
   "source": [
    "python ex13.py first 2nd 3rd    \n",
    "   \n",
    "  The script is called: ex13.py \n",
    "        \n",
    "    Your first variable is: first   \n",
    "    Your second variable is: 2nd    \n",
    "    Your third variable is: 3rd\n"
   ]
  },
  {
   "cell_type": "markdown",
   "metadata": {},
   "source": [
    "#### This is what it would look like after running the code. It is clarified that in order for this code to run in this way you must have the windows text processor installed since another word processor is unable to run this code in this way."
   ]
  },
  {
   "cell_type": "markdown",
   "metadata": {},
   "source": [
    "# Exercise 14 Prompting and Passing"
   ]
  },
  {
   "cell_type": "code",
   "execution_count": null,
   "metadata": {},
   "outputs": [],
   "source": [
    "    from sys import argv     \n",
    "script, user_name = argv     \n",
    "prompt = '> '     \n",
    "print \"Hi %s, I'm the %s script.\" % (user_name, script)    \n",
    "print \"I'd like to ask you a few questions.\"     \n",
    "print \"Do you like me %s?\" % user_name    \n",
    "likes = raw_input(prompt)    \n",
    "print \"Where do you live %s?\" % user_name   \n",
    "lives = raw_input(prompt)   \n",
    "print \"What kind of computer do you have?\"   \n",
    "computer = raw_input(prompt)  \n",
    "print \"\"\" 18   Alright, so you said %r about liking me.   \n",
    "You live in %r.  Not sure where that is. 20   \n",
    "And you have a %r computer.  Nice. 21   \n",
    "\"\"\" % (likes, lives, computer)"
   ]
  },
  {
   "cell_type": "markdown",
   "metadata": {},
   "source": [
    "#### This exercise uses a raw_input and argv (argument variable). In this code you are asking different things and answer them according to the characteristics of the argument variable that was imported in the first line."
   ]
  },
  {
   "cell_type": "code",
   "execution_count": null,
   "metadata": {},
   "outputs": [],
   "source": [
    " $ python ex14.py zed \n",
    "    Hi zed, I'm the ex14.py script\n",
    "    I'd like to ask you a few questions.   \n",
    "    Do you like me zed?  >  Yes    \n",
    "    Where do you live zed?  >  San Francisco    \n",
    "    What kind of computer do you have?   >  Tandy 1000\n",
    "    Alright, so you said 'Yes' about liking me.    \n",
    "    You live in 'San Francisco'.  Not sure where that is.  And you have a 'Tandy 1000' computer.  Nice."
   ]
  },
  {
   "cell_type": "markdown",
   "metadata": {},
   "source": [
    "#### This is how the code looks after running it.\n"
   ]
  },
  {
   "cell_type": "markdown",
   "metadata": {},
   "source": [
    "# Exercise 15 Reading Files"
   ]
  },
  {
   "cell_type": "markdown",
   "metadata": {},
   "source": [
    "#### For this exercise you will need two files, one to perform the exercise and another to save a file in text format. Like the following:"
   ]
  },
  {
   "cell_type": "code",
   "execution_count": null,
   "metadata": {},
   "outputs": [],
   "source": [
    "This is stuff I typed into a file.    \n",
    "It is really cool stuff.     \n",
    "Lots and lots of fun to have in here."
   ]
  },
  {
   "cell_type": "code",
   "execution_count": null,
   "metadata": {},
   "outputs": [],
   "source": [
    " from sys import argv     \n",
    "    script, filename = argv    \n",
    "    txt = open(filename)    \n",
    "    print \"Here's your file %r:\" % filename    \n",
    "    print txt.read()   \n",
    "    print \"Type the filename again:\"  \n",
    "    file_again = raw_input(\"> \")   \n",
    "    txt_again = open(file_again) \n",
    "    print txt_again.read()"
   ]
  },
  {
   "cell_type": "markdown",
   "metadata": {},
   "source": [
    "#### This example asks us if we want to show the file that we save as a text format using the argv and raw_input that we used previously."
   ]
  },
  {
   "cell_type": "markdown",
   "metadata": {},
   "source": [
    "#### The difference in this exercise is that the file is being read in text format with the txt.read command."
   ]
  },
  {
   "cell_type": "code",
   "execution_count": null,
   "metadata": {},
   "outputs": [],
   "source": [
    "$ python ex15.py ex15_sample.txt   \n",
    "    Here's your file 'ex15_sample.txt':    \n",
    "    This is stuff I typed into a file.    \n",
    "    It is really cool stuff.    \n",
    "    Lots and lots of fun to have in here.\n",
    "    \n",
    "    Type the filename again:    \n",
    "        >  ex15_sample.txt   \n",
    "        This is stuff I typed into a file.    \n",
    "        It is really cool stuff.    \n",
    "        Lots and lots of fun to have in here.\n"
   ]
  },
  {
   "cell_type": "markdown",
   "metadata": {},
   "source": [
    "#### This is how it should look when running the program using argv, raw_input and txt.read."
   ]
  },
  {
   "cell_type": "markdown",
   "metadata": {},
   "source": [
    "# Exercise 16 Reading and Writing Files"
   ]
  },
  {
   "cell_type": "markdown",
   "metadata": {},
   "source": [
    "#### For this exercise it is important to know the best known commands for files.\n",
    "#### • read—Reads the contents of the ﬁle. You can assign the result to a variable.\n",
    "#### • readline—Reads just one line of a text ﬁ le.\n",
    "#### • truncate—Empties the ﬁ le. Watch out if you care about the ﬁ le.\n",
    "#### • write(stuff)—Writes stuff to the ﬁle."
   ]
  },
  {
   "cell_type": "code",
   "execution_count": null,
   "metadata": {},
   "outputs": [],
   "source": [
    "from sys import argv    \n",
    "script, filename = argv\n",
    "\n",
    "print \"We're going to erase %r.\" % filename     \n",
    "print \"If you don't want that, hit CTRL-C  (^C).\"   \n",
    "print \"If you do want that, hit RETURN.\" \n",
    "\n",
    "raw_input(\"?\")\n",
    "\n",
    "print \"Opening the file...\"   \n",
    "target = open(filename, 'w')\n",
    "\n",
    "print \"Truncating the file.  Goodbye!\"    \n",
    "target.truncate() \n",
    "\n",
    "print \"Now I'm going to ask you for three lines.\" \n",
    "\n",
    "line1 = raw_input(\"line 1: \")    \n",
    "line2 = raw_input(\"line 2: \")   \n",
    "line3 = raw_input(\"line 3: \")\n",
    "\n",
    "print \"I'm going to write these to the file.\" \n",
    "\n",
    "target.write(line1)   \n",
    "target.write(\"\\n\")\n",
    "target.write(line2)    \n",
    "target.write(\"\\n\") \n",
    "target.write(line3) \n",
    "target.write(\"\\n\") \n",
    "print \"And finally, we close it.\" \n",
    "target.close()"
   ]
  },
  {
   "cell_type": "code",
   "execution_count": null,
   "metadata": {},
   "outputs": [],
   "source": [
    "$ python ex16.py test.txt   \n",
    "We're going to erase 'test.txt'.   \n",
    "If you don't want that, hit CTRL-C  (^C).   \n",
    "If you do want that, hit RETURN.  \n",
    "? \n",
    "Opening the file...    \n",
    "Truncating the file.  Goodbye!   \n",
    "Now I'm going to ask you for three lines.   \n",
    "line 1:  Mary had a little lamb    \n",
    "line 2:  It's fleece was white as snow  \n",
    "line 3:  It was also tasty   \n",
    "I'm going to write these to the file.  \n",
    "And finally, we close it.\n"
   ]
  },
  {
   "cell_type": "markdown",
   "metadata": {},
   "source": [
    "#### So you should see the program after being run, but at the time of running it is suggested that it be run in parts."
   ]
  },
  {
   "cell_type": "markdown",
   "metadata": {},
   "source": []
  },
  {
   "cell_type": "markdown",
   "metadata": {},
   "source": [
    "#### Python is something called an \"object-oriented programming language.\" What this means is that there is a Python construction called a class that allows you to structure your software in a particular way. Using classes, you can add consistency to your programs so they can be used in a cleaner way, or at least that's the theory."
   ]
  },
  {
   "cell_type": "markdown",
   "metadata": {},
   "source": [
    "#### It should be known that Object-oriented Python is not easy to understand, it turns out to be somewhat strange but while the process of the necessary commands is known you will realize that you can follow up on this course.\n",
    "#### The objects are like mini imports\n",
    "#### If a class is like a \"mini module\", then there must be a similar concept to import, but for classes. That concept is called \"instantiate,\" which is just an elegant, unpleasant and overly intelligent way of saying \"create.\" When you create an instance of a class, what you get is called an object.\n",
    "#### The way to do this is to call the class as if it were a function, like this:\n",
    "    thing = MyStuff () thing.apple () print thing.tangerine\n",
    "#### The first line is the \"instantiate\" operation, and it is very similar to calling a function. However, when you call this, there is a sequence of events that Python coordinates for you. I will check them using the code above for MyStuff:\n",
    " 1. Python searches for MyStuff () and sees that it is a class that you have defined.\n",
    " 2. Python creates an empty object with all the functions that you specified in the class using def.\n",
    " 3. Python then looks to see if you did a “magic” __init__ function, and if so, call that function to initialize your newly created empty object.\n",
    " 4. In the MyStuff __init__ function, I get this additional self variable, which is that empty object that Python created for me, and I can configure variables as I would with a module, dict or other object.\n",
    " 5. In this case, I set self.tangerine to a song letter and then initialized this object.\n",
    " 6. Now Python can take this newly minted object and assign it to the variable thing for me to work on."
   ]
  },
  {
   "cell_type": "code",
   "execution_count": null,
   "metadata": {},
   "outputs": [],
   "source": [
    "class Song(object): \n",
    "    def __init__(self, lyrics):\n",
    "    self.lyrics = lyrics \n",
    "def sing_me_a_song(self):           \n",
    "    for line in self.lyrics:                \n",
    "        print line   \n",
    "        happy_bday = Song([\"Happy birthday to you\",                      \n",
    "                           \"I don't want to get sued\",                     \n",
    "                           \"So I'll stop right there\"])   \n",
    "        bulls_on_parade = Song([\"They rally around the family\",     \n",
    "                                \"With pockets full of shells\"])\n",
    "        \n",
    "        happy_bday.sing_me_a_song()   \n",
    "        bulls_on_parade.sing_me_a_song()"
   ]
  },
  {
   "cell_type": "markdown",
   "metadata": {},
   "source": [
    "# EXERCISE 17: More Files"
   ]
  },
  {
   "cell_type": "markdown",
   "metadata": {},
   "source": [
    "#### In this exercise, a script is used to copy one file to another."
   ]
  },
  {
   "cell_type": "code",
   "execution_count": null,
   "metadata": {},
   "outputs": [],
   "source": [
    "from sys import argv\n",
    "from os.path import exists\n",
    "\n",
    "script, from_file, to_file = argv\n",
    "\n",
    "print(f\"Copying from {from_file} to {to_file}\")\n",
    "\n",
    "# we could do these two on one line, how?\n",
    "in_file = open(from_file)\n",
    "indata = in_file.read()\n",
    "print(f\"The input file is {len(indata)} bytes long\")\n",
    "\n",
    "print(f\"Does the output file exist? {exists(to_file)}\")\n",
    "print(\"Ready, hit RETURN to continue, CTRL-C to abort.\")\n",
    "input()\n",
    "\n",
    "out_file = open(to_file, 'w')\n",
    "out_file.write(indata)\n",
    "\n",
    "print(\"Alright, all done.\")\n",
    "\n",
    "out_file.close()\n",
    "in_file.close()"
   ]
  },
  {
   "cell_type": "markdown",
   "metadata": {},
   "source": [
    "#### In this code another command called \"exists\" was imported, what happens is that an existing code is taken, just as this code was imported, thousands more can be imported, making the task easier for the programmer. This code should be displayed this way: "
   ]
  },
  {
   "cell_type": "code",
   "execution_count": null,
   "metadata": {},
   "outputs": [],
   "source": [
    "$ # first make a sample file\n",
    "$ echo \"This is a test file.\" > test.txt\n",
    "$ # then look at it\n",
    "$ cat test.txt\n",
    "This is a test file.\n",
    "$ # now run our script on it\n",
    "$ python3.6 ex17.py test.txt new_file.txt\n",
    "Copying from test.txt to new_file.txt\n",
    "The input file is 21 bytes long\n",
    "Does the output file exist? False\n",
    "Ready, hit RETURN to continue, CTRL-C to abort.\n",
    "Alright, all done.\n"
   ]
  },
  {
   "cell_type": "markdown",
   "metadata": {},
   "source": [
    "# EXERCISE 18: Names, Variables, Code, Functions"
   ]
  },
  {
   "cell_type": "markdown",
   "metadata": {},
   "source": [
    "#### This exercise talks about the functions they are and how to name code snippets, they take arguments and how they allow you to make your mini_scripts. You can create functions using \"def\" in python."
   ]
  },
  {
   "cell_type": "code",
   "execution_count": 5,
   "metadata": {},
   "outputs": [
    {
     "name": "stdout",
     "output_type": "stream",
     "text": [
      "arg1: Zed, arg2: Shaw\n",
      "arg1: Zed, arg2: Shaw\n",
      "arg1: First!\n",
      "I got nothin'.\n"
     ]
    }
   ],
   "source": [
    "# this one is like your scripts with argv\n",
    "def print_two(*args):\n",
    "    arg1, arg2 = args\n",
    "    print(f\"arg1: {arg1}, arg2: {arg2}\")\n",
    "\n",
    "# ok, that *args is actually pointless, we can just do this\n",
    "def print_two_again(arg1, arg2):\n",
    "    print(f\"arg1: {arg1}, arg2: {arg2}\")\n",
    "\n",
    "# this just takes one argument\n",
    "def print_one(arg1):\n",
    "    print(f\"arg1: {arg1}\")\n",
    "\n",
    "# this one takes no arguments\n",
    "def print_none():\n",
    "    print(\"I got nothin'.\")\n",
    "\n",
    "\n",
    "print_two(\"Zed\",\"Shaw\")\n",
    "print_two_again(\"Zed\",\"Shaw\")\n",
    "print_one(\"First!\")\n",
    "print_none()"
   ]
  },
  {
   "cell_type": "markdown",
   "metadata": {},
   "source": [
    "#### In the code you put a \"def\" to indicate that it is a function and then what is placed is the name that you want to put to that function, then between parentheses the argument of that function is placed, in this way they are made 3 more functions, and in the end you put what you want to put in each of the functions."
   ]
  },
  {
   "cell_type": "markdown",
   "metadata": {},
   "source": [
    "# EXERCISE 19: Functions and Variables"
   ]
  },
  {
   "cell_type": "markdown",
   "metadata": {},
   "source": [
    "#### In this exercise the functions are used again but now they are also used variables."
   ]
  },
  {
   "cell_type": "code",
   "execution_count": 3,
   "metadata": {},
   "outputs": [
    {
     "name": "stdout",
     "output_type": "stream",
     "text": [
      "We can just give the function numbers directly:\n",
      "You have 20 cheeses!\n",
      "You have 30 boxes of crackers!\n",
      "Man that's enough for a party!\n",
      "Get a blanket.\n",
      "\n",
      "OR, we can use variables from our script:\n",
      "You have 10 cheeses!\n",
      "You have 50 boxes of crackers!\n",
      "Man that's enough for a party!\n",
      "Get a blanket.\n",
      "\n",
      "We can even do math inside too:\n",
      "You have 30 cheeses!\n",
      "You have 11 boxes of crackers!\n",
      "Man that's enough for a party!\n",
      "Get a blanket.\n",
      "\n",
      "And we can combine the two, variables and math:\n",
      "You have 110 cheeses!\n",
      "You have 1050 boxes of crackers!\n",
      "Man that's enough for a party!\n",
      "Get a blanket.\n",
      "\n"
     ]
    }
   ],
   "source": [
    "def cheese_and_crackers(cheese_count, boxes_of_crackers):\n",
    "    print(f\"You have {cheese_count} cheeses!\")\n",
    "    print(f\"You have {boxes_of_crackers} boxes of crackers!\")\n",
    "    print(\"Man that's enough for a party!\")\n",
    "    print(\"Get a blanket.\\n\")\n",
    "\n",
    "\n",
    "print(\"We can just give the function numbers directly:\")\n",
    "cheese_and_crackers(20, 30)\n",
    "\n",
    "\n",
    "print(\"OR, we can use variables from our script:\")\n",
    "amount_of_cheese = 10\n",
    "amount_of_crackers = 50\n",
    "\n",
    "cheese_and_crackers(amount_of_cheese, amount_of_crackers)\n",
    "\n",
    "\n",
    "print(\"We can even do math inside too:\")\n",
    "cheese_and_crackers(10 + 20, 5 + 6)\n",
    "\n",
    "\n",
    "print(\"And we can combine the two, variables and math:\")\n",
    "cheese_and_crackers(amount_of_cheese + 100, amount_of_crackers + 1000)"
   ]
  },
  {
   "cell_type": "markdown",
   "metadata": {},
   "source": [
    "#### In the code a function is used, naming it \"cheese_and_crackers\" and putting 2 arguments, then on the next line place a print on which the argument 1 will be placed and on the next line the argument 2. The arguments are defined by the following line \"cheese_and_crackers (20, 30)\", place the name of the function continuing the value of the arguments, and print what is placed in the print taking into account the given values, this is done 3 times more but give different values to the arguments . In conclusion you can use the times you want a function and need to have to write the code again."
   ]
  },
  {
   "cell_type": "markdown",
   "metadata": {},
   "source": [
    "# EXERCISE 20: Functions and Files"
   ]
  },
  {
   "cell_type": "markdown",
   "metadata": {},
   "source": [
    "#### This exercise will use what was learned in the previous exercises, what are the functions and the importation of files."
   ]
  },
  {
   "cell_type": "code",
   "execution_count": null,
   "metadata": {},
   "outputs": [],
   "source": [
    "from sys import argv\n",
    "\n",
    "script, input_file = argv\n",
    "\n",
    "def print_all(f):\n",
    "    print(f.read())\n",
    "\n",
    "def rewind(f):\n",
    "    f.seek(0)\n",
    "\n",
    "def print_a_line(line_count, f):\n",
    "    print(line_count, f.readline())\n",
    "\n",
    "current_file = open(input_file)\n",
    "\n",
    "print(\"First let's print the whole file:\\n\")\n",
    "\n",
    "print_all(current_file)\n",
    "\n",
    "print(\"Now let's rewind, kind of like a tape.\")\n",
    "\n",
    "rewind(current_file)\n",
    "\n",
    "print(\"Let's print three lines:\")\n",
    "\n",
    "current_line = 1\n",
    "print_a_line(current_line, current_file)\n",
    "\n",
    "current_line = current_line + 1\n",
    "print_a_line(current_line, current_file)\n",
    "\n",
    "current_line = current_line + 1\n",
    "print_a_line(current_line, current_file)"
   ]
  },
  {
   "cell_type": "markdown",
   "metadata": {},
   "source": [
    "#### This code uses what is the import of files and the use of the function, it is a simple exercise where the only difference to those seen above is that another file is imported to the function, the program looks like this:"
   ]
  },
  {
   "cell_type": "code",
   "execution_count": null,
   "metadata": {},
   "outputs": [],
   "source": [
    "$ python3.6 ex20.py test.txt\n",
    "First let's print the whole file:\n",
    "This is line 1\n",
    "This is line 2\n",
    "This is line 3\n",
    "Now let's rewind, kind of like a tape.\n",
    "Let's print three lines:\n",
    "1 This is line 1\n",
    "2 This is line 2\n",
    "3 This is line 3"
   ]
  },
  {
   "cell_type": "markdown",
   "metadata": {},
   "source": [
    "# EXERCISE 21: Functions Can Return Something"
   ]
  },
  {
   "cell_type": "markdown",
   "metadata": {},
   "source": [
    "#### In this exercise the function is used again, however a new script is added that is the return, then the use of this new script in the functions will be shown."
   ]
  },
  {
   "cell_type": "code",
   "execution_count": 8,
   "metadata": {},
   "outputs": [
    {
     "name": "stdout",
     "output_type": "stream",
     "text": [
      "Let's do some math with just functions!\n",
      "ADDING 30 + 5\n",
      "SUBTRACTING 78 - 4\n",
      "MULTIPLYING 90 * 2\n",
      "DIVIDING 100 / 2\n",
      "Age: 35, Height: 74, Weight: 180, IQ: 50.0\n",
      "Here is a puzzle.\n",
      "DIVIDING 50.0 / 2\n",
      "MULTIPLYING 180 * 25.0\n",
      "SUBTRACTING 74 - 4500.0\n",
      "ADDING 35 + -4426.0\n",
      "That becomes:  -4391.0 Can you do it by hand?\n"
     ]
    }
   ],
   "source": [
    "def add(a, b):\n",
    " print(f\"ADDING {a} + {b}\")\n",
    " return a + b\n",
    "\n",
    "def subtract(a, b):\n",
    "    print(f\"SUBTRACTING {a} - {b}\")\n",
    "    return a - b\n",
    "\n",
    "def multiply(a, b):\n",
    "    print(f\"MULTIPLYING {a} * {b}\")\n",
    "    return a * b\n",
    "\n",
    "def divide(a, b):\n",
    "    print(f\"DIVIDING {a} / {b}\")\n",
    "    return a / b\n",
    "\n",
    "\n",
    "print(\"Let's do some math with just functions!\")\n",
    "\n",
    "age = add(30, 5)\n",
    "height = subtract(78, 4)\n",
    "weight = multiply(90, 2)\n",
    "iq = divide(100, 2)\n",
    "\n",
    "print(f\"Age: {age}, Height: {height}, Weight: {weight}, IQ: {iq}\")\n",
    "\n",
    "\n",
    "# A puzzle for the extra credit, type it in anyway.\n",
    "print(\"Here is a puzzle.\")\n",
    "\n",
    "what = add(age, subtract(height, multiply(weight, divide(iq, 2))))\n",
    "\n",
    "print(\"That becomes: \", what, \"Can you do it by hand?\")"
   ]
  },
  {
   "cell_type": "markdown",
   "metadata": {},
   "source": [
    "#### In this exercise the function is used as in the previous ones, the only difference was the use of \"return\", this to restore or remove the value given to the arguments that had been given to it, and thus be able to give them new values."
   ]
  },
  {
   "cell_type": "markdown",
   "metadata": {},
   "source": [
    "# Exercise 40 Modules,Classes , and Objects\n"
   ]
  },
  {
   "cell_type": "markdown",
   "metadata": {},
   "source": [
    "#### Python is something called an \"object-oriented programming language.\" What this means is that there is a Python construction called a class that allows you to structure your software in a particular way. Using classes, you can add consistency to your programs so they can be used in a cleaner way, or at least that's the theory."
   ]
  },
  {
   "cell_type": "markdown",
   "metadata": {},
   "source": [
    "#### It should be known that Object-oriented Python is not easy to understand, it turns out to be somewhat strange but while the process of the necessary commands is known you will realize that you can follow up on this course.\n",
    "#### The objects are like mini imports\n",
    "#### If a class is like a \"mini module\", then there must be a similar concept to import, but for classes. That concept is called \"instantiate,\" which is just an elegant, unpleasant and overly intelligent way of saying \"create.\" When you create an instance of a class, what you get is called an object.\n",
    "#### The way to do this is to call the class as if it were a function, like this:\n",
    "    thing = MyStuff () thing.apple () print thing.tangerine\n",
    "#### The first line is the \"instantiate\" operation, and it is very similar to calling a function. However, when you call this, there is a sequence of events that Python coordinates for you. I will check them using the code above for MyStuff:\n",
    " 1. Python searches for MyStuff () and sees that it is a class that you have defined.\n",
    " 2. Python creates an empty object with all the functions that you specified in the class using def.\n",
    " 3. Python then looks to see if you did a “magic” __init__ function, and if so, call that function to initialize your newly created empty object.\n",
    " 4. In the MyStuff __init__ function, I get this additional self variable, which is that empty object that Python created for me, and I can configure variables as I would with a module, dict or other object.\n",
    " 5. In this case, I set self.tangerine to a song letter and then initialized this object.\n",
    " 6. Now Python can take this newly minted object and assign it to the variable thing for me to work on."
   ]
  },
  {
   "cell_type": "code",
   "execution_count": null,
   "metadata": {},
   "outputs": [],
   "source": [
    "class Song(object): \n",
    "    def __init__(self, lyrics):\n",
    "    self.lyrics = lyrics \n",
    "def sing_me_a_song(self):           \n",
    "    for line in self.lyrics:                \n",
    "        print line   \n",
    "        happy_bday = Song([\"Happy birthday to you\",                      \n",
    "                           \"I don't want to get sued\",                     \n",
    "                           \"So I'll stop right there\"])   \n",
    "        bulls_on_parade = Song([\"They rally around the family\",     \n",
    "                                \"With pockets full of shells\"])\n",
    "        \n",
    "        happy_bday.sing_me_a_song()   \n",
    "        bulls_on_parade.sing_me_a_song()"
   ]
  },
  {
   "cell_type": "markdown",
   "metadata": {},
   "source": [
    "#### This is an example of object-oriented python."
   ]
  },
  {
   "cell_type": "code",
   "execution_count": null,
   "metadata": {},
   "outputs": [],
   "source": [
    " $ python ex40.py    \n",
    "    Happy birthday to you    \n",
    "    I don't want to get sued    \n",
    "    So I'll stop right there    \n",
    "    They rally around the family    \n",
    "    With pockets full of shells"
   ]
  },
  {
   "cell_type": "markdown",
   "metadata": {},
   "source": [
    "#### This is how it should look when you run the code"
   ]
  },
  {
   "cell_type": "markdown",
   "metadata": {},
   "source": [
    "# Exercise 41 Learning to Speak Object Oriented"
   ]
  },
  {
   "cell_type": "markdown",
   "metadata": {},
   "source": [
    "#### For this exercise you need to know the vocabulary necessary to understand object-oriented python."
   ]
  },
  {
   "cell_type": "markdown",
   "metadata": {},
   "source": [
    "*class—Tell Python to make a new kind of thing.\n",
    "\n",
    "*object—Two meanings: the most basic kind of thing, and any instance of some thing.\n",
    "\n",
    "*instance—What you get when you tell Python to create a class.\n",
    "\n",
    "*def—How you deﬁ ne a function inside a class.\n",
    "\n",
    "*self—Inside the functions in a class, self is a variable for the instance/object being accessed.\n",
    "\n",
    "*inheritance—The concept that one class can inherit traits from another class, much like you and your parents.\n",
    "\n",
    "*composition—The concept that a class can be composed of other classes as parts, much like how a car has wheels.\n",
    "\n",
    "*attribute—A property classes have that are from composition and are usually variables.\n",
    "\n",
    "*is- a—A phrase to say that something inherits from another, as in a “salmon” is- a “ﬁ sh.”\n",
    "\n",
    "*has- a—A phrase to say that something is composed of other things or has a trait, as in “a salmon has- a mouth.”\n"
   ]
  },
  {
   "cell_type": "code",
   "execution_count": null,
   "metadata": {},
   "outputs": [],
   "source": [
    "import random     \n",
    "    from urllib import urlopen     \n",
    "    import sys     \n",
    "    WORD_URL = \"http://learncodethehardway.org/words.txt\"   \n",
    "    WORDS = [] \n",
    "    PHRASES = {      \n",
    "        \"class %%%(%%%):\": \n",
    "        \"Make a class named %%% that is-a %%%.\", \n",
    "        \"class %%%(object):\\n\\tdef __init__(self, ***)\" : \n",
    "        \"class %%% has-a __init__ that takes self and *** parameters.\",\n",
    "        \"class %%%(object):\\n\\tdef ***(self, @@@)\": \n",
    "        \"class %%% has-a function named *** that takes self and @@@ parameters.\", \n",
    "        \"*** = %%%()\": \n",
    "        \"Set *** to an instance of class %%%.\", \n",
    "        \"***.***(@@@)\": \n",
    "        \"From *** get the *** function, and call it with parameters self, @@@.\", \n",
    "        \"***.*** = '***'\": \n",
    "        \"From *** get the *** attribute and set it to '***'.\" \n",
    "    } \n",
    "       # do they want to drill phrases first 24  \n",
    "        PHRASE_FIRST = False   \n",
    "        if len(sys.argv) == 2 and sys.argv[1] == \"english\":     \n",
    "        PHRASE_FIRST = True    \n",
    "        \n",
    "        # load up the words from the website \n",
    "        for word in urlopen(WORD_URL).readlines(): \n",
    "            WORDS.append(word.strip()) \n",
    "            \n",
    "            def convert(snippet, phrase): \n",
    "            class_names = [w.capitalize() for w in                     \n",
    "                           random.sample(WORDS, snippet.count(\"%%%\"))] \n",
    "            other_names = random.sample(WORDS, snippet.count(\"***\")) \n",
    "            results = []      \n",
    "            param_names = []       \n",
    "            \n",
    "            for i in range(0, snippet.count(\"@@@\")): \n",
    "                param_count = random.randint(1,3) \n",
    "                param_names.append(', '.join(random.sample(WORDS, param_count))) \n",
    "                \n",
    "                for sentence in snippet, phrase: \n",
    "                    result = sentence[:] \n",
    "                    \n",
    "                    # fake class names\n",
    "                for word in class_names: \n",
    "                    result = result.replace(\"%%%\", word, 1) \n",
    "                    \n",
    "                    # fake other names          \n",
    "                    for word in other_names:             \n",
    "                        result = result.replace(\"***\", word, 1)           \n",
    "                        \n",
    "                        # fake parameter lists          \n",
    "                        for word in param_names:             \n",
    "                            result = result.replace(\"@@@\", word, 1)         \n",
    "                            \n",
    "                            results.append(result)      \n",
    "                            return results    \n",
    "                        \n",
    "                        # keep going until they hit CTRL- D \n",
    "                        try:       \n",
    "                            while True:           \n",
    "                                snippets = PHRASES.keys()        \n",
    "                                random.shuffle(snippets) \n",
    "                                \n",
    "                                for snippet in snippets:            \n",
    "                                    phrase = PHRASES[snippet]       \n",
    "                                    question, answer = convert(snippet, phrase) \n",
    "                                    if PHRASE_FIRST:                   \n",
    "                                        question, answer = answer, question              \n",
    "                                        \n",
    "                                        print question               \n",
    "                                        \n",
    "                                        raw_input(\"> \")             \n",
    "                                        print \"ANSWER:  %s\\n\\n\" % answer \n",
    "                                        \n",
    "                                        except EOFError:      \n",
    "                                            print \"\\nBye\""
   ]
  },
  {
   "cell_type": "markdown",
   "metadata": {},
   "source": [
    "#### This is an example of object-oriented python with object-related sentences, this code has some that can be easily interpreted, it is just a matter of finding and interpreting them."
   ]
  },
  {
   "cell_type": "markdown",
   "metadata": {},
   "source": [
    "# EXERCISE 42: Is-A, Has-A, Objects, and Classes"
   ]
  },
  {
   "cell_type": "markdown",
   "metadata": {},
   "source": [
    "#### First, you need to learn two catch phrases ”is-a” and ”has-a.” You use the phrase is-a when you talk about objects and classes being related to each other by a class relationship. You use has-a when you talk about objects and classes that are related only because they reference each other."
   ]
  },
  {
   "cell_type": "code",
   "execution_count": 11,
   "metadata": {},
   "outputs": [],
   "source": [
    "## Animal is-a object (yes, sort of confusing) look at the extra credit\n",
    "class Animal(object):\n",
    "    pass\n",
    "\n",
    " ## Dog is-a animal??\n",
    "class Dog(Animal):\n",
    "\n",
    "    def __init__(self, name):\n",
    "        ## ??\n",
    "        self.name = name\n",
    "\n",
    "## cat is-a animal??\n",
    "class Cat(Animal):\n",
    "\n",
    "    def __init__(self, name):\n",
    "        ## ??\n",
    "        self.name = name\n",
    "\n",
    "## is-a ??\n",
    "class Person(object):\n",
    "\n",
    "    def __init__(self, name):\n",
    "        ## ??\n",
    "        self.name = name\n",
    "        \n",
    "        ## Person has-a pet of some kind\n",
    "        self.pet = None\n",
    "\n",
    "## has-a??\n",
    "class Employee(Person):\n",
    "    def __init__(self, name, salary):\n",
    "        ## ?? hmm what is this strange magic?\n",
    "        super(Employee, self).__init__(name)\n",
    "        ## ??\n",
    "        self.salary = salary\n",
    "\n",
    "## is-a??\n",
    "class Fish(object):\n",
    "    pass\n",
    "\n",
    "## is-a??\n",
    "class Salmon(Fish):\n",
    "    pass\n",
    "\n",
    "## has-a??\n",
    "class Halibut(Fish):\n",
    "    pass\n",
    "\n",
    "\n",
    "## rover is-a Dog\n",
    "rover = Dog(\"Rover\")\n",
    "\n",
    "## is-a??\n",
    "satan = Cat(\"Satan\")\n",
    "\n",
    "## has-a??\n",
    "mary = Person(\"Mary\")\n",
    "\n",
    "## has-a??\n",
    "mary.pet = satan\n",
    "\n",
    "## is-a??\n",
    "frank = Employee(\"Frank\", 120000)\n",
    "\n",
    "## has-a??\n",
    "frank.pet = rover\n",
    "\n",
    "## is-a??\n",
    "flipper = Fish()\n",
    "\n",
    "## is-a??\n",
    "crouse = Salmon()\n",
    "\n",
    "## is-a??\n",
    "harry = Halibut()\n"
   ]
  },
  {
   "cell_type": "markdown",
   "metadata": {},
   "source": [
    "#### In this exercise, only the concept of is-a and has-a was taught, and practically is-a is used when the two concepts discussed are related to each other, and has-a is because you put them Although they have no relationship.\n",
    "\n",
    "#### In Python 3 you do not need to add the (object) after the name of the class, but the Python community believes in ”explicit is better than implicit” so I and other Python experts have decided to include it.\n",
    "\n",
    "#### Finally, in the future the styles and tastes of Python programmers may change and this explicit use of (object) might be seen as a sign that you are a bad programmer. If that happens, simply stop using it, or tell them, ”Python Zen says explicit is better than implicit.”"
   ]
  },
  {
   "cell_type": "markdown",
   "metadata": {},
   "source": [
    "## EXERCISE 43: Basic Object-Oriented Analysis and Design"
   ]
  },
  {
   "cell_type": "markdown",
   "metadata": {},
   "source": [
    "#### I’m going to describe a process to use when you want to build something using Python, specifically with object-oriented programming (OOP)\n",
    "\n",
    "#### The process is as follows:\n",
    "    1. Write or draw about the problem.\n",
    "    2. Extract key concepts from 1 and research them.\n",
    "    3. Create a class hierarchy and object map for the concepts.\n",
    "    4. Code the classes and a test to run them.\n",
    "    5. Repeat and refine.\n",
    "##### The way to look at this process is that it is ”top down,” meaning it starts from the very abstract loose idea and then slowly refines it until the idea is solid and something you can code.\n",
    "\n",
    "#### I will now go through this process while coming up with a game engine and a game for this exercise."
   ]
  },
  {
   "cell_type": "markdown",
   "metadata": {},
   "source": [
    "## The Analysis of a Simple Game Engine\n",
    "\n",
    "### 43.1.1 Write or Draw About the Problem\n",
    "\n",
    "#### write a little paragraph for the game: ”Aliens have invaded a space ship and our hero has to go through a maze of rooms defeating them so he can escape into an escape pod to the planet below. The game will be more like a Zork or Adventure type game with text outputs and funny ways to die. The game will involve an engine that runs a map full of rooms or scenes. Each room will print its own description when the player enters it and then tell the engine what room to run next out of the map.”\n",
    "\n",
    "#### At this point I have a good idea for the game and how it would run, so now I want to describe each scene:\n",
    "     \n",
    "     Death This is when the player dies and should be something funny.\n",
    "     \n",
    "     Central Corridor This is the starting point and has a Gothon already standing there that the players have\n",
    "     to defeat with a joke before continuing.\n",
    "     \n",
    "     Laser Weapon Armory This is where the hero gets a neutron bomb to blow up the ship before getting\n",
    "     to the escape pod. It has a keypad the hero has to guess the number for.\n",
    "     \n",
    "     The Bridge Another battle scene with a Gothon where the hero places the bomb.\n",
    "     \n",
    "     Escape Pod Where the hero escapes but only after guessing the right escape pod.\n",
    "\n",
    "### 43.1.2 Extract Key Concepts and Research Them\n",
    "\n",
    "#### I now have enough information to extract some of the nouns and analyze their class hierarchy. First I make a list of all the nouns:\n",
    "\n",
    "    • Alien\n",
    "    • Player\n",
    "    • Ship\n",
    "    • Maze\n",
    "    • Room\n",
    "    • Scene\n",
    "    • Gothon\n",
    "    • Escape Pod\n",
    "    • Planet\n",
    "    • Map\n",
    "    • Engine\n",
    "    • Death\n",
    "    • Central Corridor\n",
    "    • Laser Weapon Armory\n",
    "    • The Bridge\n",
    "    \n",
    "### 43.1.3 Create a Class Hierarchy and Object Map for the Concepts\n",
    "\n",
    "#### Right away I see that ”Room” and ”Scene” are basically the same thing depending on how I want to do things. I’m going to pick ”Scene” for this game. Then I see that all the specific rooms like ”Central Corridor” are basically just Scenes. I see also that Death is basically a Scene, which confirms my choice of ”Scene” over ”Room” since you can have a death scene, but a death room is kind of odd. ”Maze” and ”Map” are basically the same so I’m going to go with ”Map” since I used it more often. I don’t want to do a battle system, so I’m going to ignore ”Alien” and ”Player” and save that for later. The ”Planet” could also just be another scene instead of something specific. After all of that thought process I start to make a class hierarchy that looks like this in my text editor:\n",
    "\n",
    "    * Map \n",
    "    * Engine\n",
    "    * Scene\n",
    "    * Death\n",
    "    * Cen t ral Co r rido r\n",
    "    * La se r Weapon Armory\n",
    "    * The Bridge\n",
    "    * Escape Pod\n",
    "    \n",
    "#### I would then go through and figure out what actions are needed on each thing based on verbs in the description. For example, I know from the description I’m going to need a way to ”run” the engine, ”get the next scene” from the map, get the ”opening scene,” and ”enter” a scene. I’ll add those like this:\n",
    "\n",
    "    * Map\n",
    "     − next_scene\n",
    "     − opening_scene\n",
    "    * Engine\n",
    "     − play\n",
    "    * Scene\n",
    "     − enter\n",
    "     * Death\n",
    "     * Cen t ral Co r rido r\n",
    "     * La se r Weapon Armory\n",
    "     * The Bridge\n",
    "     * Escape Pod"
   ]
  },
  {
   "cell_type": "markdown",
   "metadata": {},
   "source": [
    "### 43.1.4 Code the Classes and a Test to Run Them"
   ]
  },
  {
   "cell_type": "code",
   "execution_count": 12,
   "metadata": {},
   "outputs": [],
   "source": [
    "class Scene(object):\n",
    "    def enter(self):\n",
    "        pass\n",
    "\n",
    "\n",
    "class Engine(object):\n",
    "    def __init__(self, scene_map):\n",
    "        pass\n",
    "    def play(self):\n",
    "        pass\n",
    "\n",
    "class Death(Scene):\n",
    "    def enter(self):\n",
    "        pass\n",
    "\n",
    "class CentralCorridor(Scene):\n",
    "\n",
    "    def enter(self):\n",
    "        pass\n",
    "    \n",
    "class LaserWeaponArmory(Scene):\n",
    "    def enter(self):\n",
    "        pass\n",
    "\n",
    "class TheBridge(Scene):\n",
    "    def enter(self):\n",
    "        pass\n",
    "\n",
    "class EscapePod(Scene):\n",
    "    def enter(self):\n",
    "        pass\n",
    "\n",
    "\n",
    "class Map(object):\n",
    "    def __init__(self, start_scene):\n",
    "        pass\n",
    "\n",
    "    def next_scene(self, scene_name):\n",
    "        pass\n",
    "\n",
    "    def opening_scene(self):\n",
    "        pass\n",
    "\n",
    "\n",
    "a_map = Map('central_corridor')\n",
    "a_game = Engine(a_map)\n",
    "a_game.play()\n"
   ]
  },
  {
   "cell_type": "markdown",
   "metadata": {},
   "source": [
    "### 43.1.5 Repeat and Refine\n",
    "\n",
    "#### The last step in my little process isn’t so much a step as it is a while-loop. You don’t ever do this as a onepass operation. Instead you go back over the whole process again and refine it based on information you’ve learned from later steps. Sometimes I’ll get to step 3 and realize that I need to work on 1 and 2 more, so I’ll stop and go back and work on those. Sometimes I’ll get a flash of inspiration and jump to the end to code up the solution in my head while I have it there, but then I’ll go back and do the previous steps to make sure I cover all the possibilities I have.\n",
    "\n",
    "## Top Down versus Bottom Up\n",
    "\n",
    "#### The process is typically labeled ”top down” since it starts at the most abstract concepts (the top) and works its way down to actual implementation. I want you to use this process I just described when analyzing problems in the book from now on, but you should know that there’s another way to solve problems in programming that starts with code and goes ”up” to the abstract concepts. This other way is labeled ”bottom up.” Here are the general steps you follow to do this:\n",
    "\n",
    "    1. Take a small piece of the problem; hack on some code and get it to run barely.\n",
    "    2. Refine the code into something more formal with classes and automated tests.\n",
    "    3. Extract the key concepts you’re using and try to find research for them.\n",
    "    4. Write a description of what’s really going on.\n",
    "    5. Go back and refine the code, possibly throwing it out and starting over.\n",
    "    6. Repeat, moving on to some other piece of the problem.\n",
    "\n",
    "## The Code for ”Gothons from Planet Percal #25”\n",
    "\n",
    "#### I’m going to break this final file ex43.py down into sections and explain each one rather than dump all the code at once.\n",
    "\n",
    "    1 from sys import exit\n",
    "    2 from random import randint\n",
    "    3 from textwrap import dedent\n",
    "    \n",
    "#### This is just our basic imports for the game. The only new thing is the import of the dedent function from the textwrap module. This little function will help us write our room descriptions using \"\"\" (triplequote) strings. It simply strips leading white-space from the beginning of lines in a string. Without this function using \"\"\" style strings fails because they are indented on the screen the same level as in the Python code."
   ]
  },
  {
   "cell_type": "code",
   "execution_count": 13,
   "metadata": {},
   "outputs": [],
   "source": [
    "class Scene(object):\n",
    "    def enter(self):\n",
    "        print(\"This scene is not yet configured.\")\n",
    "        print(\"Subclass it and implement enter().\")\n",
    "        exit(1)"
   ]
  },
  {
   "cell_type": "markdown",
   "metadata": {},
   "source": [
    "#### As you saw in the skeleton code, I have a base class for Scene that will have the common things that all scenes do. In this simple program they don’t do much, so this is more a demonstration of what you would do to make a base class."
   ]
  },
  {
   "cell_type": "code",
   "execution_count": null,
   "metadata": {},
   "outputs": [],
   "source": [
    "\n",
    "class Engine(object):\n",
    "    def __init__(self, scene_map):\n",
    "        self.scene_map = scene_map\n",
    "    def play(self):\n",
    "        current_scene = self.scene_map.opening_scene()\n",
    "        last_scene = self.scene_map.next_scene('finished')\n",
    "        \n",
    "        while current_scene != last_scene:\n",
    "            next_scene_name = current_scene.enter()\n",
    "            current_scene = self.scene_map.next_scene(next_scene_name)\n",
    "            \n",
    "        # be sure to print out the last scene\n",
    "        current_scene.enter()"
   ]
  },
  {
   "cell_type": "markdown",
   "metadata": {},
   "source": [
    "#### I also have my Engine class, and you can see how I’m already using the methods for Map.opening_scene and Map.next_scene. Because I’ve done a bit of planning I can just assume I’ll write those and then use them before I’ve written the Map class.\n"
   ]
  },
  {
   "cell_type": "code",
   "execution_count": null,
   "metadata": {},
   "outputs": [],
   "source": [
    "class Death(Scene):\n",
    "    quips = [\n",
    "        \n",
    "        \"You died. You kinda suck at this.\",\n",
    "        \"Your Mom would be proud...if she were smarter.\",\n",
    "        \"Such a luser.\",\n",
    "        \"I have a small puppy that's better at this.\",\n",
    "        \"You're worse than your Dad's jokes.\"\n",
    "        \n",
    "        ]\n",
    "    def enter(self):\n",
    "        print(Death.quips[randint(0, len(self.quips)-1)])\n",
    "        exit(1)\n",
    "\n",
    "class CentralCorridor(Scene):\n",
    "    def enter(self):\n",
    "        print(dedent(\"\"\"\n",
    "             The Gothons of Planet Percal #25 have invaded your ship and\n",
    "             destroyed your entire crew. You are the last surviving\n",
    "             member and your last mission is to get the neutron destruct\n",
    "             bomb from the Weapons Armory, put it in the bridge, and\n",
    "             blow the ship up after getting into an escape pod.\n",
    "             \n",
    "             You're running down the central corridor to the Weapons\n",
    "             Armory when a Gothon jumps out, red scaly skin, dark grimy\n",
    "             teeth, and evil clown costume flowing around his hate\n",
    "             filled body. He's blocking the door to the Armory and\n",
    "             about to pull a weapon to blast you.\n",
    "             \"\"\"))\n",
    "        action = input(\"> \")\n",
    "        \n",
    "        if action == \"shoot!\":\n",
    "            print(dedent(\"\"\"\n",
    "            Quick on the draw you yank out your blaster and fire\n",
    "            it at the Gothon. His clown costume is flowing and\n",
    "            moving around his body, which throws off your aim.\n",
    "            Your laser hits his costume but misses him entirely.\n",
    "            This completely ruins his brand new costume his mother\n",
    "            bought him, which makes him fly into an insane rage\n",
    "            and blast you repeatedly in the face until you are\n",
    "            dead. Then he eats you.\n",
    "            \"\"\"))\n",
    "            return 'death'\n",
    "        \n",
    "        elif action == \"dodge!\":\n",
    "            print(dedent(\"\"\"\n",
    "            Like a world class boxer you dodge, weave, slip and\n",
    "            slide right as the Gothon's blaster cranks a laser\n",
    "            past your head. In the middle of your artful dodge\n",
    "            your foot slips and you bang your head on the metal\n",
    "            wall and pass out. You wake up shortly after only to\n",
    "            die as the Gothon stomps on your head and eats you.\n",
    "            \"\"\"))\n",
    "            return 'death'\n",
    "        \n",
    "        elif action == \"tell a joke\":\n",
    "            print(dedent(\"\"\"\n",
    "            Lucky for you they made you learn Gothon insults in\n",
    "            the academy. You tell the one Gothon joke you know:\n",
    "            Lbhe zbgure vf fb sng, jura fur fvgf nebhaq gur ubhfr,\n",
    "            fur fvgf nebhaq gur ubhfr. The Gothon stops, tries\n",
    "            not to laugh, then busts out laughing and can't move.\n",
    "            While he's laughing you run up and shoot him square in\n",
    "            the head putting him down, then jump through the\n",
    "            Weapon Armory door.\n",
    "            \"\"\"))\n",
    "            return 'laser_weapon_armory'\n",
    "        \n",
    "        else:\n",
    "            print(\"DOES NOT COMPUTE!\")\n",
    "            return 'central_corridor'"
   ]
  },
  {
   "cell_type": "markdown",
   "metadata": {},
   "source": [
    "#### After that I’ve created the CentralCorridor, which is the start of the game. I’m doing the scenes for the game before the Map because I need to reference them later. You should also see how I use the dedent function on line 4. Try removing it later to see what it does."
   ]
  },
  {
   "cell_type": "code",
   "execution_count": 14,
   "metadata": {},
   "outputs": [],
   "source": [
    "class LaserWeaponArmory(Scene):\n",
    "    def enter(self):\n",
    "        print(dedent(\"\"\"\n",
    "            You do a dive roll into the Weapon Armory, crouch and scan\n",
    "            the room for more Gothons that might be hiding. It's dead\n",
    "            quiet, too quiet. You stand up and run to the far side of\n",
    "            the room and find the neutron bomb in its container.\n",
    "            There's a keypad lock on the box and you need the code to\n",
    "            get the bomb out. If you get the code wrong 10 times then\n",
    "            the lock closes forever and you can't get the bomb. The\n",
    "            code is 3 digits.\n",
    "            \"\"\"))\n",
    "        \n",
    "        code = f\"{randint(1,9)}{randint(1,9)}{randint(1,9)}\"\n",
    "        guess = input(\"[keypad]> \")\n",
    "        guesses = 0\n",
    "        \n",
    "        while guess != code and guesses < 10:\n",
    "            print(\"BZZZZEDDD!\")\n",
    "            guesses += 1\n",
    "            guess = input(\"[keypad]> \")\n",
    "            \n",
    "        if guess == code:\n",
    "            print(dedent(\"\"\"\n",
    "                The container clicks open and the seal breaks, letting\n",
    "                gas out. You grab the neutron bomb and run as fast as\n",
    "                you can to the bridge where you must place it in the\n",
    "                right spot.\n",
    "                \"\"\"))\n",
    "            return 'the_bridge'\n",
    "        \n",
    "        else:\n",
    "            print(dedent(\"\"\"\n",
    "                You burst onto the Bridge with the netron destruct bomb\n",
    "                under your arm and surprise 5 Gothons who are trying to\n",
    "                take control of the ship. Each of them has an even uglier\n",
    "                clown costume than the last. They haven't pulled their\n",
    "                weapons out yet, as they see the active bomb under your\n",
    "                arm and don't want to set it off.\n",
    "                \"\"\"))\n",
    "            action = input(\"> \")\n",
    "            \n",
    "            if action == \"throw the bomb\":\n",
    "                print(dedent(\"\"\"\n",
    "                    In a panic you throw the bomb at the group of Gothons\n",
    "                    and make a leap for the door. Right as you drop it a\n",
    "                    Gothon shoots you right in the back killing you. As\n",
    "                    you die you see another Gothon frantically try to\n",
    "                    disarm the bomb. You die knowing they will probably\n",
    "                    blow up when it goes off.\n",
    "                    \"\"\"))\n",
    "                return 'death'\n",
    "            \n",
    "            elif action == \"slowly place the bomb\":\n",
    "                print(dedent(\"\"\"\n",
    "                    You point your blaster at the bomb under your arm and\n",
    "                    the Gothons put their hands up and start to sweat.\n",
    "                    You inch backward to the door, open it, and then\n",
    "                    carefully place the bomb on the floor, pointing your\n",
    "                    blaster at it. You then jump back through the door,\n",
    "                    punch the close button and blast the lock so the\n",
    "                    Gothons can't get out. Now that the bomb is placed\n",
    "                    you run to the escape pod to get off this tin can.\n",
    "                    \"\"\"))\n",
    "                return 'escape_pod'\n",
    "            \n",
    "            else:\n",
    "                print(\"DOES NOT COMPUTE!\")\n",
    "                return \"the_bridge\"\n",
    "            \n",
    "class EscapePod(Scene):\n",
    "    def enter(self):\n",
    "        print(dedent(\"\"\"\n",
    "                You rush through the ship desperately trying to make it to\n",
    "                the escape pod before the whole ship explodes. It seems\n",
    "                like hardly any Gothons are on the ship, so your run is\n",
    "                clear of interference. You get to the chamber with the\n",
    "                escape pods, and now need to pick one to take. Some of\n",
    "                them could be damaged but you don't have time to look.\n",
    "                There's 5 pods, which one do you take?\n",
    "                \"\"\"))\n",
    "        \n",
    "        good_pod = randint(1,5)\n",
    "        guess = input(\"[pod #]> \")\n",
    "        \n",
    "        if int(guess) != good_pod:\n",
    "            print(dedent(\"\"\"\n",
    "                    You jump into pod {guess} and hit the eject button.\n",
    "                    The pod escapes out into the void of space, then\n",
    "                    implodes as the hull ruptures, crushing your body into\n",
    "                    jam jelly.\n",
    "                    \"\"\"))\n",
    "            return 'death'\n",
    "        else:\n",
    "            print(dedent(\"\"\"\n",
    "                        You jump into pod {guess} and hit the eject button.\n",
    "                        The pod easily slides out into space heading to the\n",
    "                        planet below. As it flies to the planet, you look\n",
    "                        back and see your ship implode then explode like a\n",
    "                        bright star, taking out the Gothon ship at the same\n",
    "                        time. You won!\n",
    "                        \"\"\"))\n",
    "            return 'finished'\n",
    "\n",
    "class Finished(Scene):\n",
    "    def enter(self):\n",
    "        print(\"You won! Good job.\")\n",
    "        return 'finished'"
   ]
  },
  {
   "cell_type": "markdown",
   "metadata": {},
   "source": [
    "#### This is the rest of the game’s scenes, and since I know I need them and have thought about how they’ll flow together I’m able to code them up directly.\n",
    "\n",
    "#### Finally I’ve got my code that runs the game by making a Map, then handing that map to an Engine before calling play to make the game work."
   ]
  },
  {
   "cell_type": "code",
   "execution_count": null,
   "metadata": {},
   "outputs": [],
   "source": []
  }
 ],
 "metadata": {
  "kernelspec": {
   "display_name": "Python 3",
   "language": "python",
   "name": "python3"
  },
  "language_info": {
   "codemirror_mode": {
    "name": "ipython",
    "version": 3
   },
   "file_extension": ".py",
   "mimetype": "text/x-python",
   "name": "python",
   "nbconvert_exporter": "python",
   "pygments_lexer": "ipython3",
   "version": "3.7.3"
  }
 },
 "nbformat": 4,
 "nbformat_minor": 2
}
