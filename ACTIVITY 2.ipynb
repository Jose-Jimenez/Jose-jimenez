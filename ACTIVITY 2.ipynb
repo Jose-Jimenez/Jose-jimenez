{
 "cells": [
  {
   "cell_type": "code",
   "execution_count": null,
   "metadata": {},
   "outputs": [],
   "source": [
    "a = 9\n",
    "b = 5\n",
    "c = 4\n",
    "if a >= b and c < b:\n",
    "    print(\"It's correct\")    "
   ]
  },
  {
   "cell_type": "code",
   "execution_count": null,
   "metadata": {},
   "outputs": [],
   "source": [
    "a = 15\n",
    "b = 12\n",
    "c = 10\n",
    "if a >= b or c < b:\n",
    "    print(\"At least one of the conditions have been fulfilled\")"
   ]
  },
  {
   "cell_type": "code",
   "execution_count": null,
   "metadata": {},
   "outputs": [],
   "source": [
    "age = int(input(\"How old are you?\"))\n",
    "if age <= 18:\n",
    "    print(\"You are still baby!\")\n",
    "if age > 18 and age <= 25:\n",
    "    print(f\"You look younger than {age}!\")\n",
    "if age > 25:\n",
    "    print(\"You are getting older :()\")"
   ]
  },
  {
   "cell_type": "code",
   "execution_count": null,
   "metadata": {},
   "outputs": [],
   "source": [
    "a = 16\n",
    "b = 15\n",
    "if a < b:\n",
    "    print(\"a is less than b\")\n",
    "elif a > b:\n",
    "    print(\"a is greater than b\")\n",
    "else:\n",
    "    print(\"a is equal to b\")"
   ]
  },
  {
   "cell_type": "code",
   "execution_count": null,
   "metadata": {},
   "outputs": [],
   "source": [
    "a = 5\n",
    "b = 6\n",
    "if a > b:\n",
    "    print(\"Hi\")\n",
    "if a < b:\n",
    "        print(\"Bye\")"
   ]
  },
  {
   "cell_type": "code",
   "execution_count": null,
   "metadata": {},
   "outputs": [],
   "source": [
    "names = [\"Rafael\", \"Jesus\", \"Ana\"]\n",
    "numbers = [10, 12, 15]\n",
    "print(names[0])\n",
    "print(numbers[0])"
   ]
  },
  {
   "cell_type": "code",
   "execution_count": null,
   "metadata": {},
   "outputs": [],
   "source": [
    "for i in range(0,10):\n",
    "    print(\"Hello\", end = ' ')"
   ]
  },
  {
   "cell_type": "code",
   "execution_count": null,
   "metadata": {},
   "outputs": [],
   "source": [
    "names = [\"Juan\", \"Carlos\", \"Armando\", \"Alex\", \"Evelyn\"]\n",
    "for name in names:\n",
    "    print(name, end = ' ')"
   ]
  },
  {
   "cell_type": "code",
   "execution_count": null,
   "metadata": {},
   "outputs": [],
   "source": [
    "values = int(input(\"How much data do you want to introduce? \"))\n",
    "ages = []\n",
    "total = 0\n",
    "for i in range(0,values):\n",
    "    x = int(input(\"Introduce age: \"))\n",
    "    ages.append(x)\n",
    "    total += x\n",
    "   \n",
    "print(\"This is your sample: \")\n",
    "\n",
    "for age in ages:\n",
    "    print(age, end = ' ')\n",
    "\n",
    "sample_mean = total/values\n",
    "\n",
    "print(f\"\\nThe sample mean is = {sample_mean}\")"
   ]
  },
  {
   "cell_type": "code",
   "execution_count": null,
   "metadata": {},
   "outputs": [],
   "source": [
    "values = int(input(\"How much data do you want to introduce? \"))\n",
    "names = []\n",
    "total = 0\n",
    "for i in range(0,values):\n",
    "    x = input(\"Introduce name: \")\n",
    "    names.append(x)\n",
    "numbers = int(input(\"What name do you want?: \"))    \n",
    "v = total + numbers\n",
    "if numbers < values:\n",
    "    print(names[v])\n",
    "else:\n",
    "    print(\"It's not valid\")\n",
    "    "
   ]
  },
  {
   "cell_type": "code",
   "execution_count": null,
   "metadata": {},
   "outputs": [],
   "source": []
  }
 ],
 "metadata": {
  "kernelspec": {
   "display_name": "Python 3",
   "language": "python",
   "name": "python3"
  },
  "language_info": {
   "codemirror_mode": {
    "name": "ipython",
    "version": 3
   },
   "file_extension": ".py",
   "mimetype": "text/x-python",
   "name": "python",
   "nbconvert_exporter": "python",
   "pygments_lexer": "ipython3",
   "version": "3.7.3"
  }
 },
 "nbformat": 4,
 "nbformat_minor": 2
}
